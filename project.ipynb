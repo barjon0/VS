{
 "cells": [
  {
   "cell_type": "code",
   "execution_count": 62,
   "metadata": {},
   "outputs": [],
   "source": [
    "import os\n",
    "import re\n",
    "from torchvggish import vggish, vggish_input\n",
    "from sklearn.tree import DecisionTreeClassifier\n",
    "from sklearn.model_selection import train_test_split\n",
    "from sklearn.metrics import accuracy_score\n",
    "import numpy as np"
   ]
  },
  {
   "cell_type": "code",
   "execution_count": 24,
   "metadata": {},
   "outputs": [],
   "source": [
    "MUSIC_DIR=\"music/sampled/\"\n",
    "EMBEDDING_MODEL = vggish()\n",
    "EMBEDDING_MODEL.eval()\n",
    "SONG_LENGTH = 30 # length of samples\n",
    "SAMPLES_PER_CAT=60"
   ]
  },
  {
   "cell_type": "code",
   "execution_count": 25,
   "metadata": {},
   "outputs": [],
   "source": [
    "def readFolder2Embedding(path):\n",
    "\n",
    "    songs = os.listdir(path)\n",
    "\n",
    "    songs= np.random.choice(songs,size=60,replace=False)\n",
    "\n",
    "    # vggish output embedding has length 128\n",
    "    data = np.zeros((SAMPLES_PER_CAT, SONG_LENGTH*128))\n",
    "    labels = []\n",
    "\n",
    "    for i, song in enumerate(songs):\n",
    "        print(f\"Learning Embedding for {song}\")\n",
    "        embedding = EMBEDDING_MODEL.forward(\n",
    "            vggish_input.wavfile_to_examples(path+\"/\"+song))\n",
    "        # normalize length, convert to numpy array and flatten the feature array\n",
    "        converted_embedding = embedding.detach().numpy()[\n",
    "            :SONG_LENGTH, :].flatten()\n",
    "        data[i, :] = converted_embedding\n",
    "        # get label/category name from directory name\n",
    "        labels.append(re.match(r\".*cat_(.*)\", path)[1])\n",
    "    return data, labels"
   ]
  },
  {
   "cell_type": "code",
   "execution_count": 26,
   "metadata": {},
   "outputs": [],
   "source": [
    "def readIn():\n",
    "    directories = sorted(os.listdir(MUSIC_DIR))\n",
    "    data = np.empty((0, SONG_LENGTH*128))\n",
    "    label = []\n",
    "    for directory in directories:\n",
    "        dir_data, dir_label = readFolder2Embedding(\n",
    "            MUSIC_DIR+directory)\n",
    "        data = np.concatenate((data, dir_data), axis=0)\n",
    "        label += dir_label\n",
    "    print(\"All data read in successfully!\")\n",
    "    return data, label"
   ]
  },
  {
   "cell_type": "code",
   "execution_count": 27,
   "metadata": {},
   "outputs": [],
   "source": [
    "def classify(classifier, filepath):\n",
    "    print(\"Predicting label for\" + filepath + \"...\")\n",
    "    embedding = EMBEDDING_MODEL.forward(vggish_input.wavfile_to_examples(filepath))\n",
    "    converted_embedding = embedding.detach().numpy()[\n",
    "        :SONG_LENGTH, :].flatten()\n",
    "    return classifier.predict(converted_embedding.reshape(1, -1))"
   ]
  },
  {
   "cell_type": "code",
   "execution_count": 70,
   "metadata": {},
   "outputs": [],
   "source": [
    "def test(classifier, data, labels):\n",
    "    predictions=[]\n",
    "    for sample in data:\n",
    "        predictions.append(classifier.predict(sample.reshape(1, -1)))\n",
    "    return accuracy_score(labels,predictions)"
   ]
  },
  {
   "cell_type": "code",
   "execution_count": 29,
   "metadata": {},
   "outputs": [
    {
     "name": "stdout",
     "output_type": "stream",
     "text": [
      "Learning Embedding for My Chemical Romance - Welcome to the Black Parade.wav\n",
      "Learning Embedding for blink-182 - Bottom Of The Ocean.wav\n",
      "Learning Embedding for My Chemical Romance - Sleep.wav\n",
      "Learning Embedding for Foo Fighters - I Am A River.wav\n",
      "Learning Embedding for Bakkushan - Nur Die Nacht.wav\n",
      "Learning Embedding for blink-182 - Down.wav\n",
      "Learning Embedding for Kraftklub - Wie ich.wav\n",
      "Learning Embedding for Sum 41 - Fat Lip.wav\n",
      "Learning Embedding for AWOLNATION - Not Your Fault.wav\n",
      "Learning Embedding for Fall Out Boy - Sugar, We_re Goin Down.wav\n",
      "Learning Embedding for blink-182 - First Date.wav\n",
      "Learning Embedding for Bakkushan - Deine Helden sind tot.wav\n",
      "Learning Embedding for Foo Fighters - Long Road To Ruin.wav\n",
      "Learning Embedding for Fall Out Boy - XO.wav\n",
      "Learning Embedding for Royal Blood - Little Monster.wav\n",
      "Learning Embedding for blink-182 - ANTHEM PART 3.wav\n",
      "Learning Embedding for blink-182 - I Miss You.wav\n",
      "Learning Embedding for Linkin Park - In the End.wav\n",
      "Learning Embedding for blink-182 - Going Away To College.wav\n",
      "Learning Embedding for Kraftklub - Chemie Chemie Ya - Geil und Gestört Edit.wav\n",
      "Learning Embedding for blink-182 - BAD NEWS.wav\n",
      "Learning Embedding for Linkin Park - CASTLE OF GLASS.wav\n",
      "Learning Embedding for Foo Fighters - Everlong.wav\n",
      "Learning Embedding for Billy Talent - Fallen Leaves.wav\n",
      "Learning Embedding for Billy Talent - Try Honesty.wav\n",
      "Learning Embedding for Linkin Park - What I_ve Done.wav\n",
      "Learning Embedding for blink-182 - After Midnight.wav\n",
      "Learning Embedding for Kraftklub - Unsere Fans.wav\n",
      "Learning Embedding for Box Car Racer - My First Punk Song.wav\n",
      "Learning Embedding for blink-182 - No Heart To Speak Of.wav\n",
      "Learning Embedding for The All-American Rejects - Gives You Hell.wav\n",
      "Learning Embedding for blink-182 - San Diego.wav\n",
      "Learning Embedding for Royal Blood - Out of the Black.wav\n",
      "Learning Embedding for Oasis - Live Forever.wav\n",
      "Learning Embedding for Billy Talent - Devil in a Midnight Mass.wav\n",
      "Learning Embedding for Linkin Park - Bleed It Out.wav\n",
      "Learning Embedding for Sum 41 - Still Waiting.wav\n",
      "Learning Embedding for Box Car Racer - There Is.wav\n",
      "Learning Embedding for blink-182 - Pin the Grenade.wav\n",
      "Learning Embedding for blink-182 - Up All Night.wav\n",
      "Learning Embedding for My Chemical Romance - Famous Last Words.wav\n",
      "Learning Embedding for The All-American Rejects - Move Along.wav\n",
      "Learning Embedding for Sum 41 - The Hell Song.wav\n",
      "Learning Embedding for Billy Talent - Red Flag.wav\n",
      "Learning Embedding for Foo Fighters - The Feast and The Famine.wav\n",
      "Learning Embedding for The All-American Rejects - Dirty Little Secret.wav\n",
      "Learning Embedding for Kraftklub - Schüsse in die Luft.wav\n",
      "Learning Embedding for Royal Blood - Figure It Out.wav\n",
      "Learning Embedding for AWOLNATION - Kill Your Heroes.wav\n",
      "Learning Embedding for Box Car Racer - Tiny Voices.wav\n",
      "Learning Embedding for Sum 41 - In Too Deep.wav\n",
      "Learning Embedding for Oasis - Stand By Me.wav\n",
      "Learning Embedding for Royal Blood - Lights Out.wav\n",
      "Learning Embedding for Oasis - Don_t Look Back In Anger.wav\n",
      "Learning Embedding for Foo Fighters - The Pretender.wav\n",
      "Learning Embedding for blink-182 - All The Small Things.wav\n",
      "Learning Embedding for Billy Talent - Devil on My Shoulder.wav\n",
      "Learning Embedding for Sum 41 - Dear Father.wav\n",
      "Learning Embedding for Foo Fighters - Outside.wav\n",
      "Learning Embedding for Fall Out Boy - Hum Hallelujah.wav\n",
      "Learning Embedding for Aversions Crown - Odium.wav\n",
      "Learning Embedding for Brand of Sacrifice, Will Ramos - Lifeblood.wav\n",
      "Learning Embedding for Shadow of Intent, Trevor Strnad - Barren and Breathless Macrocosm.wav\n",
      "Learning Embedding for Imminence - The Call of the Void.wav\n",
      "Learning Embedding for Spite - Dedication To Flesh.wav\n",
      "Learning Embedding for Fit For An Autopsy - Mirrors.wav\n",
      "Learning Embedding for Ov Sulfur - Stained In Rot.wav\n",
      "Learning Embedding for Bleed From Within - Ascend.wav\n",
      "Learning Embedding for Neaera - Spearheading the Spawn.wav\n",
      "Learning Embedding for Disembodied Tyrant - Omenkiller.wav\n",
      "Learning Embedding for Make Them Suffer - Doomswitch.wav\n",
      "Learning Embedding for Oceans Ate Alaska - Endless Hollow.wav\n",
      "Learning Embedding for Brand of Sacrifice - Dynasty.wav\n",
      "Learning Embedding for Ov Sulfur - Befouler (feat. Alex Terrible).wav\n",
      "Learning Embedding for Worm Shepherd - The Ravens Keep.wav\n",
      "Learning Embedding for Lorna Shore - Cursed to Die.wav\n",
      "Learning Embedding for Lorna Shore - Soulless Existence.wav\n",
      "Learning Embedding for Fit For An Autopsy - In Shadows.wav\n",
      "Learning Embedding for Worm Shepherd - The Dying Heavens.wav\n",
      "Learning Embedding for To The Grave - Found Footage.wav\n",
      "Learning Embedding for After The Burial - Behold The Crown.wav\n",
      "Learning Embedding for Parkway Drive - The Void.wav\n",
      "Learning Embedding for Annisokay - STFU.wav\n",
      "Learning Embedding for Synestia, Disembodied Tyrant, Ben Duerr - The Poetic Edda.wav\n",
      "Learning Embedding for The Archaic Epidemic, Ronnie Canizaro - Annihilation.wav\n",
      "Learning Embedding for Bleed From Within - Fracture.wav\n",
      "Learning Embedding for Synestia, Disembodied Tyrant - I, The Devourer.wav\n",
      "Learning Embedding for We Came As Romans - Plagued.wav\n",
      "Learning Embedding for Make Them Suffer - Ghost Of Me.wav\n",
      "Learning Embedding for Worm Shepherd - Ov Sword and Nail.wav\n",
      "Learning Embedding for Lorna Shore - Darkest Spawn.wav\n",
      "Learning Embedding for Nik Nocturnal, Dickie Allen, Infant Annihilator - Pain.wav\n",
      "Learning Embedding for Heaven Shall Burn - La Résistance.wav\n",
      "Learning Embedding for Aversions Crown - Erebus.wav\n",
      "Learning Embedding for To The Grave - Die, Rise.wav\n",
      "Learning Embedding for Ice Nine Kills - Communion Of The Cursed.wav\n",
      "Learning Embedding for Distant - Human Scum.wav\n",
      "Learning Embedding for Lorna Shore - Welcome Back, O' Sleeping Dreamer.wav\n",
      "Learning Embedding for Heaven Shall Burn - Children of a Lesser God.wav\n",
      "Learning Embedding for Shores Of Lunacy - Misery.wav\n",
      "Learning Embedding for Lorna Shore - Immortal.wav\n",
      "Learning Embedding for Disembodied Tyrant - Ov Brimstone And Fire - Redux.wav\n",
      "Learning Embedding for Bury Tomorrow - Imposter.wav\n",
      "Learning Embedding for Electric Callboy - Pump It.wav\n",
      "Learning Embedding for She Must Burn - Misery Eternal.wav\n",
      "Learning Embedding for Aviana - Overcome.wav\n",
      "Learning Embedding for Chelsea Grin - The Mind of God.wav\n",
      "Learning Embedding for Architects, Winston McCall - Impermanence.wav\n",
      "Learning Embedding for Bury Tomorrow - Choke.wav\n",
      "Learning Embedding for Mental Cruelty - Nordlys.wav\n",
      "Learning Embedding for Bury Tomorrow - Care.wav\n",
      "Learning Embedding for Lorna Shore - To the Hellfire.wav\n",
      "Learning Embedding for She Must Burn - Eulogy.wav\n",
      "Learning Embedding for Mental Cruelty - Symphony of a Dying Star.wav\n",
      "Learning Embedding for Spiritbox - Silk In The Strings.wav\n",
      "Learning Embedding for In Flames - State Of Slow Decay.wav\n",
      "Learning Embedding for Consvmer - Für eure Tyrannen.wav\n",
      "Learning Embedding for Shadow of Intent - Farewell.wav\n",
      "Learning Embedding for The Royal - Arga.wav\n",
      "Learning Embedding for Bury Tomorrow - Quake.wav\n",
      "All data read in successfully!\n"
     ]
    }
   ],
   "source": [
    "data, label = readIn()"
   ]
  },
  {
   "cell_type": "code",
   "execution_count": 60,
   "metadata": {},
   "outputs": [
    {
     "name": "stdout",
     "output_type": "stream",
     "text": [
      "Training successful\n"
     ]
    }
   ],
   "source": [
    "x_train, x_test, y_train, y_test = train_test_split(data, label, test_size=0.33,stratify=label)\n",
    "\n",
    "classifier=DecisionTreeClassifier(max_depth=20)\n",
    "classifier.fit(x_train, y_train)\n",
    "print(\"Training successful\")"
   ]
  },
  {
   "cell_type": "code",
   "execution_count": 71,
   "metadata": {},
   "outputs": [
    {
     "name": "stdout",
     "output_type": "stream",
     "text": [
      "Accuracy:0.875\n"
     ]
    }
   ],
   "source": [
    "print(\"Accuracy:\"+ str(test(classifier,x_test, y_test)))"
   ]
  }
 ],
 "metadata": {
  "kernelspec": {
   "display_name": "MIR2",
   "language": "python",
   "name": "python3"
  },
  "language_info": {
   "codemirror_mode": {
    "name": "ipython",
    "version": 3
   },
   "file_extension": ".py",
   "mimetype": "text/x-python",
   "name": "python",
   "nbconvert_exporter": "python",
   "pygments_lexer": "ipython3",
   "version": "3.12.4"
  }
 },
 "nbformat": 4,
 "nbformat_minor": 2
}
