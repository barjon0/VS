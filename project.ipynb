{
 "cells": [
  {
   "cell_type": "code",
   "execution_count": 2,
   "metadata": {},
   "outputs": [],
   "source": [
    "import os\n",
    "import re\n",
    "from torchvggish import vggish, vggish_input\n",
    "from sklearn.tree import DecisionTreeClassifier\n",
    "from sklearn.model_selection import train_test_split\n",
    "import numpy as np"
   ]
  },
  {
   "cell_type": "code",
   "execution_count": 96,
   "metadata": {},
   "outputs": [],
   "source": [
    "MUSIC_DIR=\"music/sampled/\"\n",
    "EMBEDDING_MODEL = vggish()\n",
    "EMBEDDING_MODEL.eval()\n",
    "SONG_LENGTH = 30 # length of samples"
   ]
  },
  {
   "cell_type": "code",
   "execution_count": 6,
   "metadata": {},
   "outputs": [],
   "source": [
    "def readFolder2Embedding(path):\n",
    "\n",
    "    songs = os.listdir(path)\n",
    "\n",
    "    max_samples_per_category=60\n",
    "    # vggish output embedding has length 128\n",
    "    data = np.zeros((max_samples_per_category, SONG_LENGTH*128))\n",
    "    labels = []\n",
    "\n",
    "    for i, song in enumerate(songs):\n",
    "        if i >= max_samples_per_category: # TODO: random choice\n",
    "            break\n",
    "        print(f\"Learning Embedding for {song}\")\n",
    "        embedding = EMBEDDING_MODEL.forward(\n",
    "            vggish_input.wavfile_to_examples(path+\"/\"+song))\n",
    "        # normalize length, convert to numpy array and flatten the feature array\n",
    "        converted_embedding = embedding.detach().numpy()[\n",
    "            :SONG_LENGTH, :].flatten()\n",
    "        data[i, :] = converted_embedding\n",
    "        # get label/category name from directory name\n",
    "        labels.append(re.match(r\".*cat_(.*)\", path)[1])\n",
    "    return data, labels"
   ]
  },
  {
   "cell_type": "code",
   "execution_count": 94,
   "metadata": {},
   "outputs": [],
   "source": [
    "def readIn():\n",
    "    directories = sorted(os.listdir(MUSIC_DIR))\n",
    "    data = np.empty((0, SONG_LENGTH*128))\n",
    "    label = []\n",
    "    for directory in directories:\n",
    "        dir_data, dir_label = readFolder2Embedding(\n",
    "            MUSIC_DIR+directory)\n",
    "        data = np.concatenate((data, dir_data), axis=0)\n",
    "        label += dir_label\n",
    "    print(\"All data read in successfully!\")\n",
    "    return data, label"
   ]
  },
  {
   "cell_type": "code",
   "execution_count": 4,
   "metadata": {},
   "outputs": [],
   "source": [
    "def classify(classifier, filepath):\n",
    "    print(\"Predicting label for\" + filepath + \"...\")\n",
    "    embedding = EMBEDDING_MODEL.forward(vggish_input.wavfile_to_examples(filepath))\n",
    "    converted_embedding = embedding.detach().numpy()[\n",
    "        :SONG_LENGTH, :].flatten()\n",
    "    return classifier.predict(converted_embedding.reshape(1, -1))"
   ]
  },
  {
   "cell_type": "code",
   "execution_count": 14,
   "metadata": {},
   "outputs": [],
   "source": [
    "def test(classifier, data, labels):\n",
    "    correct=0\n",
    "    for i,sample in enumerate(data):\n",
    "        predicted_class=classifier.predict(sample.reshape(1, -1))\n",
    "        if predicted_class == labels[i]:\n",
    "            correct+=1\n",
    "    return correct/len(data)"
   ]
  },
  {
   "cell_type": "code",
   "execution_count": 97,
   "metadata": {},
   "outputs": [
    {
     "name": "stdout",
     "output_type": "stream",
     "text": [
      "Learning Embedding for AWOLNATION - Kill Your Heroes.wav\n",
      "Learning Embedding for AWOLNATION - Not Your Fault.wav\n",
      "Learning Embedding for Bakkushan - Deine Helden sind tot.wav\n",
      "Learning Embedding for Bakkushan - Nur Die Nacht.wav\n",
      "Learning Embedding for Billy Talent - Devil in a Midnight Mass.wav\n",
      "Learning Embedding for Billy Talent - Devil on My Shoulder.wav\n",
      "Learning Embedding for Billy Talent - Fallen Leaves.wav\n",
      "Learning Embedding for Billy Talent - Red Flag.wav\n",
      "Learning Embedding for Billy Talent - Try Honesty.wav\n",
      "Learning Embedding for blink-182 - After Midnight.wav\n",
      "Learning Embedding for blink-182 - All The Small Things.wav\n",
      "Learning Embedding for blink-182 - ANTHEM PART 3.wav\n",
      "Learning Embedding for blink-182 - BAD NEWS.wav\n",
      "Learning Embedding for blink-182 - Bottom Of The Ocean.wav\n",
      "Learning Embedding for blink-182 - Down.wav\n",
      "Learning Embedding for blink-182 - First Date.wav\n",
      "Learning Embedding for blink-182 - Going Away To College.wav\n",
      "Learning Embedding for blink-182 - I Miss You.wav\n",
      "Learning Embedding for blink-182 - No Heart To Speak Of.wav\n",
      "Learning Embedding for blink-182 - Pin the Grenade.wav\n",
      "Learning Embedding for blink-182 - San Diego.wav\n",
      "Learning Embedding for blink-182 - Stay Together For The Kids.wav\n",
      "Learning Embedding for blink-182 - Up All Night.wav\n",
      "Learning Embedding for Box Car Racer - My First Punk Song.wav\n",
      "Learning Embedding for Box Car Racer - There Is.wav\n",
      "Learning Embedding for Box Car Racer - Tiny Voices.wav\n",
      "Learning Embedding for Fall Out Boy - Hum Hallelujah.wav\n",
      "Learning Embedding for Fall Out Boy - Sugar, We_re Goin Down.wav\n",
      "Learning Embedding for Fall Out Boy - XO.wav\n",
      "Learning Embedding for Foo Fighters - Everlong.wav\n",
      "Learning Embedding for Foo Fighters - I Am A River.wav\n",
      "Learning Embedding for Foo Fighters - Long Road To Ruin.wav\n",
      "Learning Embedding for Foo Fighters - Outside.wav\n",
      "Learning Embedding for Foo Fighters - The Feast and The Famine.wav\n",
      "Learning Embedding for Foo Fighters - The Pretender.wav\n",
      "Learning Embedding for Kraftklub - Chemie Chemie Ya - Geil und Gestört Edit.wav\n",
      "Learning Embedding for Kraftklub - Schüsse in die Luft.wav\n",
      "Learning Embedding for Kraftklub - Unsere Fans.wav\n",
      "Learning Embedding for Kraftklub - Wie ich.wav\n",
      "Learning Embedding for Linkin Park - Bleed It Out.wav\n",
      "Learning Embedding for Linkin Park - CASTLE OF GLASS.wav\n",
      "Learning Embedding for Linkin Park - In the End.wav\n",
      "Learning Embedding for Linkin Park - What I_ve Done.wav\n",
      "Learning Embedding for My Chemical Romance - Famous Last Words.wav\n",
      "Learning Embedding for My Chemical Romance - Sleep.wav\n",
      "Learning Embedding for My Chemical Romance - Welcome to the Black Parade.wav\n",
      "Learning Embedding for Oasis - Don_t Look Back In Anger.wav\n",
      "Learning Embedding for Oasis - Live Forever.wav\n",
      "Learning Embedding for Oasis - Stand By Me.wav\n",
      "Learning Embedding for Royal Blood - Figure It Out.wav\n",
      "Learning Embedding for Royal Blood - Lights Out.wav\n",
      "Learning Embedding for Royal Blood - Little Monster.wav\n",
      "Learning Embedding for Royal Blood - Out of the Black.wav\n",
      "Learning Embedding for Sum 41 - Dear Father.wav\n",
      "Learning Embedding for Sum 41 - Fat Lip.wav\n",
      "Learning Embedding for Sum 41 - In Too Deep.wav\n",
      "Learning Embedding for Sum 41 - Still Waiting.wav\n",
      "Learning Embedding for Sum 41 - The Hell Song.wav\n",
      "Learning Embedding for The All-American Rejects - Dirty Little Secret.wav\n",
      "Learning Embedding for The All-American Rejects - Gives You Hell.wav\n",
      "Learning Embedding for A Wake in Providence - We Are Eternity.wav\n",
      "Learning Embedding for Abbie Falls - Mayday.wav\n",
      "Learning Embedding for After The Burial - Behold The Crown.wav\n",
      "Learning Embedding for Allt - Paralyzed.wav\n",
      "Learning Embedding for Annisokay - Human.wav\n",
      "Learning Embedding for Annisokay - STFU.wav\n",
      "Learning Embedding for Arch Enemy - Handshake with Hell.wav\n",
      "Learning Embedding for Arch Enemy - House of Mirrors.wav\n",
      "Learning Embedding for Architects - Doomsday.wav\n",
      "Learning Embedding for Architects, Winston McCall - Impermanence.wav\n",
      "Learning Embedding for Archspire - Bleed the Future.wav\n",
      "Learning Embedding for Archspire - Drone Corpse Aviator.wav\n",
      "Learning Embedding for Assemble the Chariots - Empress.wav\n",
      "Learning Embedding for Aversions Crown - Erebus.wav\n",
      "Learning Embedding for Aversions Crown - Odium.wav\n",
      "Learning Embedding for Aviana - Oblivion.wav\n",
      "Learning Embedding for Aviana - Obsession.wav\n",
      "Learning Embedding for Aviana - Overcome.wav\n",
      "Learning Embedding for Aviana - Rage.wav\n",
      "Learning Embedding for Aviana, Marcus Vik - Paradox.wav\n",
      "Learning Embedding for Bleed From Within - Ascend.wav\n",
      "Learning Embedding for Bleed From Within - Flesh And Stone.wav\n",
      "Learning Embedding for Bleed From Within - For All to See.wav\n",
      "Learning Embedding for Bleed From Within - Fracture.wav\n",
      "Learning Embedding for Bleed From Within - I Am Damnation.wav\n",
      "Learning Embedding for Bleed From Within - Into Nothing.wav\n",
      "Learning Embedding for Bleed From Within - Levitate.wav\n",
      "Learning Embedding for Bleed From Within - Night Crossing.wav\n",
      "Learning Embedding for Bleed From Within - Shapeshifter.wav\n",
      "Learning Embedding for Bleed From Within - Stand Down.wav\n",
      "Learning Embedding for Bleed From Within - Temple Of Lunacy.wav\n",
      "Learning Embedding for Bleed From Within - The Will To Resist.wav\n",
      "Learning Embedding for Bleed From Within - Uprising.wav\n",
      "Learning Embedding for Bodysnatcher - E.D.A..wav\n",
      "Learning Embedding for Bodysnatcher - Glass Prison.wav\n",
      "Learning Embedding for Boundaries - Darkness Shared.wav\n",
      "Learning Embedding for Boundaries - Easily Erased.wav\n",
      "Learning Embedding for Boundaries - Turning Hate Into Rage.wav\n",
      "Learning Embedding for Brand of Sacrifice - Animal.wav\n",
      "Learning Embedding for Brand of Sacrifice - Dynasty.wav\n",
      "Learning Embedding for Brand of Sacrifice - Exodus.wav\n",
      "Learning Embedding for Brand of Sacrifice, Will Ramos - Lifeblood.wav\n",
      "Learning Embedding for Bullet For My Valentine - Shatter - Edit.wav\n",
      "Learning Embedding for Bury Tomorrow - Boltcutter.wav\n",
      "Learning Embedding for Bury Tomorrow - Cannibal.wav\n",
      "Learning Embedding for Bury Tomorrow - Care.wav\n",
      "Learning Embedding for Bury Tomorrow - Choke.wav\n",
      "Learning Embedding for Bury Tomorrow - Dark, Infinite.wav\n",
      "Learning Embedding for Bury Tomorrow - Gods & Machines.wav\n",
      "Learning Embedding for Bury Tomorrow - Heretic (feat. Loz Taylor).wav\n",
      "Learning Embedding for Bury Tomorrow - Imposter.wav\n",
      "Learning Embedding for Bury Tomorrow - LIFE (Paradise Denied).wav\n",
      "Learning Embedding for Bury Tomorrow - Quake.wav\n",
      "Learning Embedding for Caliban - Ascent of the Blessed.wav\n",
      "Learning Embedding for Caliban - My Madness.wav\n",
      "Learning Embedding for Caliban - The Ocean's Heart.wav\n",
      "Learning Embedding for Caliban - VirUS (feat. Marcus Bischoff of Heaven Shall Burn).wav\n",
      "Learning Embedding for Chelsea Grin - The Isnis.wav\n",
      "Learning Embedding for Chelsea Grin - The Mind of God.wav\n",
      "Learning Embedding for Chelsea Grin - Yhorm the Giant.wav\n",
      "All data read in successfully!\n"
     ]
    }
   ],
   "source": [
    "data, label = readIn()"
   ]
  },
  {
   "cell_type": "code",
   "execution_count": 91,
   "metadata": {},
   "outputs": [
    {
     "name": "stdout",
     "output_type": "stream",
     "text": [
      "Training successful\n"
     ]
    }
   ],
   "source": [
    "x_train, x_test, y_train, y_test = train_test_split(data, label, test_size=0.33)\n",
    "\n",
    "classifier=DecisionTreeClassifier(max_depth=20)\n",
    "classifier.fit(x_train, y_train)\n",
    "print(\"Training successful\")"
   ]
  },
  {
   "cell_type": "code",
   "execution_count": 90,
   "metadata": {},
   "outputs": [
    {
     "name": "stdout",
     "output_type": "stream",
     "text": [
      "Accuracy:0.7\n"
     ]
    }
   ],
   "source": [
    "print(\"Accuracy:\"+ str(test(classifier,x_test, y_test)))"
   ]
  }
 ],
 "metadata": {
  "kernelspec": {
   "display_name": "MIR2",
   "language": "python",
   "name": "python3"
  },
  "language_info": {
   "codemirror_mode": {
    "name": "ipython",
    "version": 3
   },
   "file_extension": ".py",
   "mimetype": "text/x-python",
   "name": "python",
   "nbconvert_exporter": "python",
   "pygments_lexer": "ipython3",
   "version": "3.12.4"
  }
 },
 "nbformat": 4,
 "nbformat_minor": 2
}
